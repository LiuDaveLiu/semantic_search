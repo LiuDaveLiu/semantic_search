{
 "cells": [
  {
   "cell_type": "code",
   "execution_count": 1,
   "id": "e1a9023b",
   "metadata": {},
   "outputs": [
    {
     "name": "stderr",
     "output_type": "stream",
     "text": [
      "c:\\Users\\David\\semantic_search\\venv\\Lib\\site-packages\\tqdm\\auto.py:21: TqdmWarning: IProgress not found. Please update jupyter and ipywidgets. See https://ipywidgets.readthedocs.io/en/stable/user_install.html\n",
      "  from .autonotebook import tqdm as notebook_tqdm\n"
     ]
    }
   ],
   "source": [
    "import numpy as np\n",
    "import faiss\n",
    "import pickle\n",
    "from pathlib import Path\n",
    "from sentence_transformers import SentenceTransformer, CrossEncoder"
   ]
  },
  {
   "cell_type": "code",
   "execution_count": 2,
   "id": "ccbd906c",
   "metadata": {},
   "outputs": [
    {
     "name": "stdout",
     "output_type": "stream",
     "text": [
      "Loading index from indices\\basic_all-MiniLM-L6-v2\n",
      "✓ Loaded index with 482105 vectors\n",
      "✓ Loaded 482105 product texts\n"
     ]
    }
   ],
   "source": [
    "INDEX_DIR = Path(\"./indices/basic_all-MiniLM-L6-v2\")\n",
    "\n",
    "# Load index components\n",
    "print(f\"Loading index from {INDEX_DIR}\")\n",
    "\n",
    "# Load FAISS index\n",
    "index = faiss.read_index(str(INDEX_DIR / \"index.faiss\"))\n",
    "\n",
    "# Load product IDs\n",
    "with open(INDEX_DIR / \"product_ids.pkl\", 'rb') as f:\n",
    "    product_ids = pickle.load(f)\n",
    "\n",
    "# Load product texts (for reranking)\n",
    "with open(INDEX_DIR / \"product_texts.pkl\", 'rb') as f:\n",
    "    product_texts = pickle.load(f)\n",
    "\n",
    "print(f\"✓ Loaded index with {index.ntotal} vectors\")\n",
    "print(f\"✓ Loaded {len(product_texts)} product texts\")"
   ]
  },
  {
   "cell_type": "code",
   "execution_count": 3,
   "id": "3980272f",
   "metadata": {},
   "outputs": [
    {
     "name": "stdout",
     "output_type": "stream",
     "text": [
      "✓ Embedding function ready\n"
     ]
    }
   ],
   "source": [
    "def get_embedding_function(model='sentence-transformers/all-MiniLM-L6-v2'):\n",
    "    \"\"\"Initialize embedding function for queries\"\"\"\n",
    "    encoder = SentenceTransformer(model)\n",
    "    \n",
    "    def embed(texts):\n",
    "        return encoder.encode(texts, normalize_embeddings=True, show_progress_bar=False)\n",
    "    \n",
    "    return embed\n",
    "\n",
    "embed = get_embedding_function()\n",
    "print(\"✓ Embedding function ready\")"
   ]
  },
  {
   "cell_type": "code",
   "execution_count": 4,
   "id": "94ad34b6",
   "metadata": {},
   "outputs": [
    {
     "name": "stdout",
     "output_type": "stream",
     "text": [
      "✓ Index search working: found 5 results\n"
     ]
    }
   ],
   "source": [
    "def search_index(query_embedding, k=10):\n",
    "    \"\"\"Search the pre-built FAISS index\"\"\"\n",
    "    # Prepare query\n",
    "    query_embedding = np.array(query_embedding).astype('float32')\n",
    "    faiss.normalize_L2(query_embedding)\n",
    "    \n",
    "    # Search with IVF index\n",
    "    index.nprobe = 32\n",
    "    scores, indices = index.search(query_embedding, k)\n",
    "    \n",
    "    # Convert to product IDs\n",
    "    results = [product_ids[i] for i in indices[0] if i < len(product_ids)]\n",
    "    \n",
    "    return scores[0], results\n",
    "\n",
    "# Test\n",
    "test_embedding = embed([\"test query\"])\n",
    "scores, results = search_index(test_embedding, k=5)\n",
    "print(f\"✓ Index search working: found {len(results)} results\")"
   ]
  },
  {
   "cell_type": "code",
   "execution_count": 5,
   "id": "251e32c1",
   "metadata": {},
   "outputs": [
    {
     "name": "stdout",
     "output_type": "stream",
     "text": [
      "✓ Reranker ready\n"
     ]
    }
   ],
   "source": [
    "def get_reranker(model='cross-encoder/ms-marco-MiniLM-L-6-v2'):\n",
    "    \"\"\"Initialize cross-encoder reranker\"\"\"\n",
    "    cross_encoder = CrossEncoder(model)\n",
    "    \n",
    "    def rerank(query, candidate_ids, top_k=10):\n",
    "        if not candidate_ids:\n",
    "            return []\n",
    "        \n",
    "        # Get texts and score\n",
    "        pairs = [[query, product_texts[pid]] for pid in candidate_ids]\n",
    "        scores = cross_encoder.predict(pairs, show_progress_bar=False)\n",
    "        \n",
    "        # Sort by score\n",
    "        ranked = sorted(zip(candidate_ids, scores), key=lambda x: x[1], reverse=True)\n",
    "        return ranked[:top_k]\n",
    "    \n",
    "    return rerank\n",
    "\n",
    "rerank = get_reranker()\n",
    "print(\"✓ Reranker ready\")"
   ]
  },
  {
   "cell_type": "code",
   "execution_count": 6,
   "id": "0a4305c7",
   "metadata": {},
   "outputs": [],
   "source": [
    "def search(query, k=10, use_reranker=True):\n",
    "    \"\"\"\n",
    "    Complete semantic search\n",
    "    \n",
    "    1. Embed query\n",
    "    2. Search index  \n",
    "    3. Rerank results\n",
    "    \"\"\"\n",
    "    # Embed\n",
    "    query_embedding = embed([query])\n",
    "    \n",
    "    # Search (get more candidates if reranking)\n",
    "    search_k = 50 if use_reranker else k\n",
    "    scores, candidate_ids = search_index(query_embedding, k=search_k)\n",
    "    \n",
    "    # Rerank\n",
    "    if use_reranker and candidate_ids:\n",
    "        results = rerank(query, candidate_ids, top_k=k)\n",
    "        return results\n",
    "    else:\n",
    "        return list(zip(candidate_ids[:k], scores[:k]))"
   ]
  },
  {
   "cell_type": "code",
   "execution_count": 7,
   "id": "d2fb1dea",
   "metadata": {},
   "outputs": [
    {
     "name": "stdout",
     "output_type": "stream",
     "text": [
      "Testing search function:\n",
      "\n",
      "Query: 'wireless bluetooth headphones'\n",
      "  1. [8.71] [B07KLZQKL7] Wireless Earbuds, Tepoinn Bluetooth 5.0 True Wireless Bluetooth Headphones with ...\n",
      "  2. [8.57] [B07Q8G7K48] Wireless Bluetooth Headphones Over-Ear with Deep Bass, Foldable Wireless and Wir...\n",
      "  3. [8.34] [B07WSKKYPR] Sony Wireless Headphones WH-CH510: Wireless Bluetooth On-Ear Headset with Mic fo...\n",
      "  4. [8.28] [B08RHMD51S] Bluetooth Headphones Wireless,TUINYO Over Ear Stereo Wireless Headset 40H Playti...\n",
      "  5. [8.25] [B084YPMMYX] Wireless Earbuds, 5.0 True Wireless Bluetooth Headphones 3D Stereo Sound Wireles...\n",
      "\n",
      "Query: 'stainless steel kitchen sink'\n",
      "  1. [8.44] [B096S24CX3] hongyang Commercial Kitchen Sink Stainless Steel Single Bowl Sinks for Outdoor I...\n",
      "  2. [8.09] [B0947559RS] Giantex Stainless Steel Utility Sink, 304 Commercial Sink w/ Backsplash, Drain S...\n",
      "  3. [7.95] [B006ZTELZ0] Kraus KTM33 33 inch Topmount 50/50 Double Bowl 18 gauge Stainless Steel Kitchen ...\n",
      "  4. [7.85] [B0032C4126] Kraus KBU24 32 inch Undermount 60/40 Double Bowl 16 gauge Stainless Steel Kitche...\n",
      "  5. [7.73] [B07KQ46721] Bonnlo 25 Inch Top mount Kitchen Sink Drop-in, Farmhouse Kitchen Sink with Sink ...\n",
      "\n",
      "Query: 'laptop computer dell'\n",
      "  1. [8.40] [B097LJP1DQ] Dell Inspiron 15 15.6\" Laptop Computer, Intel Core i3 1005G1 up to 3.4GHz (Beat ...\n",
      "  2. [8.39] [B07T3DDX2C] Dell Inspiron 15 5000 Laptop Computer 2019, 15.6 inch FHD Touchscreen Notebook, ...\n",
      "  3. [8.28] [B082MSPDL8] Dell Inspiron 17 3793 2020 Premium 17.3” FHD Laptop Notebook Computer, 10th Gen ...\n",
      "  4. [7.96] [B0125XRR2S] 2019 Dell Inspiron 11 11.6\" LED Laptop Computer, AMD A6-9220e Up to 2.4GHz, 8GB ...\n",
      "  5. [7.49] [B07PHLJNCZ] Dell Latitude E6540 15.6in Laptop, Intel Core i7 4600M 2.9Ghz, 16GB DDR3 RAM, 51...\n",
      "\n",
      "Query: 'running shoes nike'\n",
      "  1. [9.09] [B07HB7TSD4] Nike Women's Track & Field Shoes, Multicolour Black White Anthracite Volt 000, 8...\n",
      "  2. [8.51] [B082PK32BL] Nike Women's Running Shoe, Black White Dark Grey Anthracite, 9.5 Nike React Mile...\n",
      "  3. [8.45] [B07PGRBCRC] Nike Men's Todos Running Shoe, White/Univ red-Black, 6.5 Regular US...\n",
      "  4. [8.42] [B07RNS3RMY] Nike Men's Running Shoes, Grey Pure Platinum Black Hyper Violet White 009, 11 UK...\n",
      "  5. [8.38] [B084N632V5] Nike Women's Race Running Shoe, White Particle Grey Rose Black, 8...\n",
      "\n",
      "Query: 'coffee maker espresso'\n",
      "  1. [9.00] [B000GXZ2GS] Aeropress Coffee and Espresso Maker - Makes 1-3 Cups of Delicious Coffee Without...\n",
      "  2. [7.54] [B07KY229WP] Espresso Machine, Latte & Cappuccino Maker- 10 pc All-In-One Espresso Maker with...\n",
      "  3. [7.44] [B088JY2BFB] Espresso Machine, 15 Bar Espresso Maker with Milk Frother Wand and Compact Desig...\n",
      "  4. [7.27] [B01M7UII5H] Nespresso Vertuo Coffee and Espresso Maker by De'Longhi, Shiny Red Brand: Nestle...\n",
      "  5. [7.24] [B0047BIWSK] AEROPRESS Coffee and Espresso Maker - Quickly Makes Delicious Coffee Without Bit...\n",
      "\n"
     ]
    }
   ],
   "source": [
    "test_queries = [\n",
    "    \"wireless bluetooth headphones\",\n",
    "    \"stainless steel kitchen sink\", \n",
    "    \"laptop computer dell\",\n",
    "    \"running shoes nike\",\n",
    "    \"coffee maker espresso\"\n",
    "]\n",
    "\n",
    "print(\"Testing search function:\\n\")\n",
    "\n",
    "for query in test_queries:\n",
    "    print(f\"Query: '{query}'\")\n",
    "    results = search(query, k=5, use_reranker=True)\n",
    "    \n",
    "    for i, (pid, score) in enumerate(results, 1):\n",
    "        text = product_texts.get(pid, \"\")[:80] + \"...\"\n",
    "        print(f\"  {i}. [{score:.2f}] [{pid}] {text}\")\n",
    "    print()"
   ]
  },
  {
   "cell_type": "code",
   "execution_count": 8,
   "id": "b6f22651",
   "metadata": {},
   "outputs": [
    {
     "name": "stderr",
     "output_type": "stream",
     "text": [
      "100%|██████████| 50/50 [00:06<00:00,  7.56it/s]"
     ]
    },
    {
     "name": "stdout",
     "output_type": "stream",
     "text": [
      "\n",
      "Hits@10: 0.860 (on 50 queries)\n"
     ]
    },
    {
     "name": "stderr",
     "output_type": "stream",
     "text": [
      "\n"
     ]
    }
   ],
   "source": [
    "def quick_eval(num_queries=50):\n",
    "    \"\"\"Quick evaluation on random queries\"\"\"\n",
    "    import pandas as pd\n",
    "    from tqdm import tqdm\n",
    "    \n",
    "    # Load test data\n",
    "    df = pd.read_parquet(\"./data/shopping_queries_dataset_examples.parquet\")\n",
    "    df = df[(df['split'] == 'test') & (df['small_version'] == 1) & (df['product_locale'] == 'us')]\n",
    "    \n",
    "    # Get unique test queries\n",
    "    test_queries = df.groupby('query_id').first().reset_index()\n",
    "    test_queries = test_queries.sample(n=min(num_queries, len(test_queries)), random_state=42)\n",
    "    \n",
    "    hits = []\n",
    "    \n",
    "    for _, row in tqdm(test_queries.iterrows(), total=len(test_queries)):\n",
    "        query_text = row['query']\n",
    "        query_id = row['query_id']\n",
    "        \n",
    "        # Get relevant products\n",
    "        query_data = df[df['query_id'] == query_id]\n",
    "        relevant = set(query_data[query_data['esci_label'].isin(['E', 'S'])]['product_id'])\n",
    "        \n",
    "        if not relevant:\n",
    "            continue\n",
    "        \n",
    "        # Search\n",
    "        results = search(query_text, k=10, use_reranker=True)\n",
    "        predicted = [pid for pid, _ in results]\n",
    "        \n",
    "        # Check if we got a hit\n",
    "        hit = any(p in relevant for p in predicted[:10])\n",
    "        hits.append(1.0 if hit else 0.0)\n",
    "    \n",
    "    print(f\"\\nHits@10: {np.mean(hits):.3f} (on {len(hits)} queries)\")\n",
    "\n",
    "# Run quick evaluation\n",
    "quick_eval(num_queries=50)"
   ]
  },
  {
   "cell_type": "code",
   "execution_count": null,
   "id": "65d10bd0",
   "metadata": {},
   "outputs": [],
   "source": []
  }
 ],
 "metadata": {
  "kernelspec": {
   "display_name": "venv",
   "language": "python",
   "name": "python3"
  },
  "language_info": {
   "codemirror_mode": {
    "name": "ipython",
    "version": 3
   },
   "file_extension": ".py",
   "mimetype": "text/x-python",
   "name": "python",
   "nbconvert_exporter": "python",
   "pygments_lexer": "ipython3",
   "version": "3.12.8"
  }
 },
 "nbformat": 4,
 "nbformat_minor": 5
}
