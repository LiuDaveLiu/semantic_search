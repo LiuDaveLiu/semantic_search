{
  "cells": [
    {
      "cell_type": "markdown",
      "metadata": {},
      "source": [
        "# Semantic Search Experiments"
      ]
    },
    {
      "cell_type": "code",
      "execution_count": 1,
      "metadata": {},
      "outputs": [
        {
          "name": "stderr",
          "output_type": "stream",
          "text": [
            "c:\\Users\\David\\semantic_search\\venv\\Lib\\site-packages\\tqdm\\auto.py:21: TqdmWarning: IProgress not found. Please update jupyter and ipywidgets. See https://ipywidgets.readthedocs.io/en/stable/user_install.html\n",
            "  from .autonotebook import tqdm as notebook_tqdm\n"
          ]
        },
        {
          "name": "stdout",
          "output_type": "stream",
          "text": [
            "GPU: NVIDIA GeForce RTX 4060 Laptop GPU\n"
          ]
        }
      ],
      "source": [
        "import pandas as pd\n",
        "import torch\n",
        "from src.pipeline import SemanticSearchPipeline\n",
        "\n",
        "print(f'GPU: {torch.cuda.get_device_name(0) if torch.cuda.is_available() else \"CPU\"}')"
      ]
    },
    {
      "cell_type": "code",
      "execution_count": null,
      "metadata": {},
      "outputs": [],
      "source": [
        "# Baseline test\n",
        "baseline = SemanticSearchPipeline({\n",
        "    'embedding_model': 'sentence-transformers/all-MiniLM-L6-v2',\n",
        "    'index_type': 'flat',\n",
        "    'use_reranker': False,\n",
        "    'text_strategy': 'basic'\n",
        "})\n",
        "\n",
        "# Quick test on 10% sample\n",
        "metrics = baseline.run_full_pipeline('small', sample_frac=0.1)\n",
        "print(f'Baseline MRR: {metrics[\"MRR\"]:.4f}')"
      ]
    },
    {
      "cell_type": "code",
      "execution_count": null,
      "metadata": {},
      "outputs": [],
      "source": [
        "# Test with reranker (expect +15% MRR)\n",
        "with_reranker = SemanticSearchPipeline({\n",
        "    'embedding_model': 'sentence-transformers/all-MiniLM-L6-v2',\n",
        "    'index_type': 'ivf',\n",
        "    'use_reranker': True,\n",
        "    'text_strategy': 'basic'\n",
        "})\n",
        "\n",
        "metrics = with_reranker.run_full_pipeline('small', sample_frac=0.1)\n",
        "print(f'With Reranker MRR: {metrics[\"MRR\"]:.4f}')"
      ]
    },
    {
      "cell_type": "code",
      "execution_count": null,
      "metadata": {},
      "outputs": [],
      "source": [
        "# Test enhanced text preparation\n",
        "enhanced = SemanticSearchPipeline({\n",
        "    'embedding_model': 'sentence-transformers/all-MiniLM-L6-v2',\n",
        "    'index_type': 'ivf',\n",
        "    'use_reranker': True,\n",
        "    'text_strategy': 'enhanced'\n",
        "})\n",
        "\n",
        "metrics = enhanced.run_full_pipeline('small', sample_frac=0.1)\n",
        "print(f'Enhanced Text MRR: {metrics[\"MRR\"]:.4f}')"
      ]
    },
    {
      "cell_type": "code",
      "execution_count": null,
      "metadata": {},
      "outputs": [],
      "source": [
        "# Run optimization experiments\n",
        "from src.experiments import run_optimization_experiments\n",
        "\n",
        "results = run_optimization_experiments(sample_frac=0.1)\n",
        "\n",
        "# Display results\n",
        "df = pd.DataFrame(results)\n",
        "df[['name', 'MRR', 'Hits@10']]"
      ]
    },
    {
      "cell_type": "markdown",
      "metadata": {},
      "source": [
        "## Visualize Results"
      ]
    },
    {
      "cell_type": "code",
      "execution_count": null,
      "metadata": {},
      "outputs": [],
      "source": [
        "import matplotlib.pyplot as plt\n",
        "import seaborn as sns\n",
        "\n",
        "# Plot MRR improvements\n",
        "fig, axes = plt.subplots(1, 2, figsize=(12, 5))\n",
        "\n",
        "# MRR comparison\n",
        "ax1 = axes[0]\n",
        "ax1.bar(range(len(df)), df['MRR'], color='green', alpha=0.7)\n",
        "ax1.axhline(y=0.488, color='red', linestyle='--', label='Baseline')\n",
        "ax1.axhline(y=0.60, color='blue', linestyle='--', label='Target')\n",
        "ax1.set_xlabel('Configuration')\n",
        "ax1.set_ylabel('MRR')\n",
        "ax1.set_title('MRR Improvements')\n",
        "ax1.legend()\n",
        "\n",
        "# Hits@10 comparison\n",
        "ax2 = axes[1]\n",
        "ax2.bar(range(len(df)), df['Hits@10'], color='blue', alpha=0.7)\n",
        "ax2.axhline(y=0.714, color='red', linestyle='--', label='Baseline')\n",
        "ax2.set_xlabel('Configuration')\n",
        "ax2.set_ylabel('Hits@10')\n",
        "ax2.set_title('Hits@10 Improvements')\n",
        "ax2.legend()\n",
        "\n",
        "plt.tight_layout()\n",
        "plt.show()"
      ]
    }
  ],
  "metadata": {
    "kernelspec": {
      "display_name": "venv",
      "language": "python",
      "name": "python3"
    },
    "language_info": {
      "codemirror_mode": {
        "name": "ipython",
        "version": 3
      },
      "file_extension": ".py",
      "mimetype": "text/x-python",
      "name": "python",
      "nbconvert_exporter": "python",
      "pygments_lexer": "ipython3",
      "version": "3.12.8"
    }
  },
  "nbformat": 4,
  "nbformat_minor": 4
}
